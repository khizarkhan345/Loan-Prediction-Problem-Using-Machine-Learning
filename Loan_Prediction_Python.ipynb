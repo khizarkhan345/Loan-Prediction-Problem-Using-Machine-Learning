{
  "nbformat": 4,
  "nbformat_minor": 0,
  "metadata": {
    "colab": {
      "name": "AI_preject.ipynb",
      "provenance": [],
      "collapsed_sections": []
    },
    "kernelspec": {
      "name": "python3",
      "display_name": "Python 3"
    },
    "accelerator": "GPU"
  },
  "cells": [
    {
      "cell_type": "code",
      "metadata": {
        "id": "LVMNg3hvGZC9",
        "colab_type": "code",
        "colab": {}
      },
      "source": [
        "#Importing the required libraries\n",
        "import pandas as pd\n",
        "import numpy as np\n",
        "import matplotlib.pyplot as plt\n",
        "import seaborn as sns\n",
        "\n",
        "import warnings\n",
        "warnings.filterwarnings('ignore')"
      ],
      "execution_count": 0,
      "outputs": []
    },
    {
      "cell_type": "code",
      "metadata": {
        "id": "4YKAQ6kzHQ0a",
        "colab_type": "code",
        "colab": {
          "base_uri": "https://localhost:8080/",
          "height": 241
        },
        "outputId": "75a75c36-c6e9-478a-8bad-1e465c0eb34e"
      },
      "source": [
        "# importing the data set\n",
        "df = pd.read_csv('train_data.csv')\n",
        "\n",
        "df.head()"
      ],
      "execution_count": 93,
      "outputs": [
        {
          "output_type": "execute_result",
          "data": {
            "text/html": [
              "<div>\n",
              "<style scoped>\n",
              "    .dataframe tbody tr th:only-of-type {\n",
              "        vertical-align: middle;\n",
              "    }\n",
              "\n",
              "    .dataframe tbody tr th {\n",
              "        vertical-align: top;\n",
              "    }\n",
              "\n",
              "    .dataframe thead th {\n",
              "        text-align: right;\n",
              "    }\n",
              "</style>\n",
              "<table border=\"1\" class=\"dataframe\">\n",
              "  <thead>\n",
              "    <tr style=\"text-align: right;\">\n",
              "      <th></th>\n",
              "      <th>Loan_ID</th>\n",
              "      <th>Gender</th>\n",
              "      <th>Married</th>\n",
              "      <th>Dependents</th>\n",
              "      <th>Education</th>\n",
              "      <th>Self_Employed</th>\n",
              "      <th>ApplicantIncome</th>\n",
              "      <th>CoapplicantIncome</th>\n",
              "      <th>LoanAmount</th>\n",
              "      <th>Loan_Amount_Term</th>\n",
              "      <th>Credit_History</th>\n",
              "      <th>Property_Area</th>\n",
              "      <th>Loan_Status</th>\n",
              "    </tr>\n",
              "  </thead>\n",
              "  <tbody>\n",
              "    <tr>\n",
              "      <th>0</th>\n",
              "      <td>LP001002</td>\n",
              "      <td>Male</td>\n",
              "      <td>No</td>\n",
              "      <td>0</td>\n",
              "      <td>Graduate</td>\n",
              "      <td>No</td>\n",
              "      <td>5849</td>\n",
              "      <td>0.0</td>\n",
              "      <td>NaN</td>\n",
              "      <td>360.0</td>\n",
              "      <td>1.0</td>\n",
              "      <td>Urban</td>\n",
              "      <td>Y</td>\n",
              "    </tr>\n",
              "    <tr>\n",
              "      <th>1</th>\n",
              "      <td>LP001003</td>\n",
              "      <td>Male</td>\n",
              "      <td>Yes</td>\n",
              "      <td>1</td>\n",
              "      <td>Graduate</td>\n",
              "      <td>No</td>\n",
              "      <td>4583</td>\n",
              "      <td>1508.0</td>\n",
              "      <td>128.0</td>\n",
              "      <td>360.0</td>\n",
              "      <td>1.0</td>\n",
              "      <td>Rural</td>\n",
              "      <td>N</td>\n",
              "    </tr>\n",
              "    <tr>\n",
              "      <th>2</th>\n",
              "      <td>LP001005</td>\n",
              "      <td>Male</td>\n",
              "      <td>Yes</td>\n",
              "      <td>0</td>\n",
              "      <td>Graduate</td>\n",
              "      <td>Yes</td>\n",
              "      <td>3000</td>\n",
              "      <td>0.0</td>\n",
              "      <td>66.0</td>\n",
              "      <td>360.0</td>\n",
              "      <td>1.0</td>\n",
              "      <td>Urban</td>\n",
              "      <td>Y</td>\n",
              "    </tr>\n",
              "    <tr>\n",
              "      <th>3</th>\n",
              "      <td>LP001006</td>\n",
              "      <td>Male</td>\n",
              "      <td>Yes</td>\n",
              "      <td>0</td>\n",
              "      <td>Not Graduate</td>\n",
              "      <td>No</td>\n",
              "      <td>2583</td>\n",
              "      <td>2358.0</td>\n",
              "      <td>120.0</td>\n",
              "      <td>360.0</td>\n",
              "      <td>1.0</td>\n",
              "      <td>Urban</td>\n",
              "      <td>Y</td>\n",
              "    </tr>\n",
              "    <tr>\n",
              "      <th>4</th>\n",
              "      <td>LP001008</td>\n",
              "      <td>Male</td>\n",
              "      <td>No</td>\n",
              "      <td>0</td>\n",
              "      <td>Graduate</td>\n",
              "      <td>No</td>\n",
              "      <td>6000</td>\n",
              "      <td>0.0</td>\n",
              "      <td>141.0</td>\n",
              "      <td>360.0</td>\n",
              "      <td>1.0</td>\n",
              "      <td>Urban</td>\n",
              "      <td>Y</td>\n",
              "    </tr>\n",
              "  </tbody>\n",
              "</table>\n",
              "</div>"
            ],
            "text/plain": [
              "    Loan_ID Gender Married  ... Credit_History Property_Area Loan_Status\n",
              "0  LP001002   Male      No  ...            1.0         Urban           Y\n",
              "1  LP001003   Male     Yes  ...            1.0         Rural           N\n",
              "2  LP001005   Male     Yes  ...            1.0         Urban           Y\n",
              "3  LP001006   Male     Yes  ...            1.0         Urban           Y\n",
              "4  LP001008   Male      No  ...            1.0         Urban           Y\n",
              "\n",
              "[5 rows x 13 columns]"
            ]
          },
          "metadata": {
            "tags": []
          },
          "execution_count": 93
        }
      ]
    },
    {
      "cell_type": "code",
      "metadata": {
        "id": "cBysM2SAHk-E",
        "colab_type": "code",
        "colab": {
          "base_uri": "https://localhost:8080/",
          "height": 34
        },
        "outputId": "b01aae43-31f5-40cf-8127-48936cf57a0e"
      },
      "source": [
        "# Checking whether missing values exists\n",
        "\n",
        "df.info()"
      ],
      "execution_count": 3,
      "outputs": [
        {
          "output_type": "execute_result",
          "data": {
            "text/plain": [
              "(614, 13)"
            ]
          },
          "metadata": {
            "tags": []
          },
          "execution_count": 3
        }
      ]
    },
    {
      "cell_type": "code",
      "metadata": {
        "id": "YokeSSh0H95o",
        "colab_type": "code",
        "colab": {
          "base_uri": "https://localhost:8080/",
          "height": 297
        },
        "outputId": "eb938816-3598-45ee-c6ea-450507cc67f7"
      },
      "source": [
        "df.describe()"
      ],
      "execution_count": 4,
      "outputs": [
        {
          "output_type": "execute_result",
          "data": {
            "text/html": [
              "<div>\n",
              "<style scoped>\n",
              "    .dataframe tbody tr th:only-of-type {\n",
              "        vertical-align: middle;\n",
              "    }\n",
              "\n",
              "    .dataframe tbody tr th {\n",
              "        vertical-align: top;\n",
              "    }\n",
              "\n",
              "    .dataframe thead th {\n",
              "        text-align: right;\n",
              "    }\n",
              "</style>\n",
              "<table border=\"1\" class=\"dataframe\">\n",
              "  <thead>\n",
              "    <tr style=\"text-align: right;\">\n",
              "      <th></th>\n",
              "      <th>ApplicantIncome</th>\n",
              "      <th>CoapplicantIncome</th>\n",
              "      <th>LoanAmount</th>\n",
              "      <th>Loan_Amount_Term</th>\n",
              "      <th>Credit_History</th>\n",
              "    </tr>\n",
              "  </thead>\n",
              "  <tbody>\n",
              "    <tr>\n",
              "      <th>count</th>\n",
              "      <td>614.000000</td>\n",
              "      <td>614.000000</td>\n",
              "      <td>592.000000</td>\n",
              "      <td>600.00000</td>\n",
              "      <td>564.000000</td>\n",
              "    </tr>\n",
              "    <tr>\n",
              "      <th>mean</th>\n",
              "      <td>5403.459283</td>\n",
              "      <td>1621.245798</td>\n",
              "      <td>146.412162</td>\n",
              "      <td>342.00000</td>\n",
              "      <td>0.842199</td>\n",
              "    </tr>\n",
              "    <tr>\n",
              "      <th>std</th>\n",
              "      <td>6109.041673</td>\n",
              "      <td>2926.248369</td>\n",
              "      <td>85.587325</td>\n",
              "      <td>65.12041</td>\n",
              "      <td>0.364878</td>\n",
              "    </tr>\n",
              "    <tr>\n",
              "      <th>min</th>\n",
              "      <td>150.000000</td>\n",
              "      <td>0.000000</td>\n",
              "      <td>9.000000</td>\n",
              "      <td>12.00000</td>\n",
              "      <td>0.000000</td>\n",
              "    </tr>\n",
              "    <tr>\n",
              "      <th>25%</th>\n",
              "      <td>2877.500000</td>\n",
              "      <td>0.000000</td>\n",
              "      <td>100.000000</td>\n",
              "      <td>360.00000</td>\n",
              "      <td>1.000000</td>\n",
              "    </tr>\n",
              "    <tr>\n",
              "      <th>50%</th>\n",
              "      <td>3812.500000</td>\n",
              "      <td>1188.500000</td>\n",
              "      <td>128.000000</td>\n",
              "      <td>360.00000</td>\n",
              "      <td>1.000000</td>\n",
              "    </tr>\n",
              "    <tr>\n",
              "      <th>75%</th>\n",
              "      <td>5795.000000</td>\n",
              "      <td>2297.250000</td>\n",
              "      <td>168.000000</td>\n",
              "      <td>360.00000</td>\n",
              "      <td>1.000000</td>\n",
              "    </tr>\n",
              "    <tr>\n",
              "      <th>max</th>\n",
              "      <td>81000.000000</td>\n",
              "      <td>41667.000000</td>\n",
              "      <td>700.000000</td>\n",
              "      <td>480.00000</td>\n",
              "      <td>1.000000</td>\n",
              "    </tr>\n",
              "  </tbody>\n",
              "</table>\n",
              "</div>"
            ],
            "text/plain": [
              "       ApplicantIncome  CoapplicantIncome  ...  Loan_Amount_Term  Credit_History\n",
              "count       614.000000         614.000000  ...         600.00000      564.000000\n",
              "mean       5403.459283        1621.245798  ...         342.00000        0.842199\n",
              "std        6109.041673        2926.248369  ...          65.12041        0.364878\n",
              "min         150.000000           0.000000  ...          12.00000        0.000000\n",
              "25%        2877.500000           0.000000  ...         360.00000        1.000000\n",
              "50%        3812.500000        1188.500000  ...         360.00000        1.000000\n",
              "75%        5795.000000        2297.250000  ...         360.00000        1.000000\n",
              "max       81000.000000       41667.000000  ...         480.00000        1.000000\n",
              "\n",
              "[8 rows x 5 columns]"
            ]
          },
          "metadata": {
            "tags": []
          },
          "execution_count": 4
        }
      ]
    },
    {
      "cell_type": "code",
      "metadata": {
        "id": "mg_QTeJyIBhQ",
        "colab_type": "code",
        "colab": {}
      },
      "source": [
        "# Replacing 3+ with 3 because algorithm does not recognize 3\n",
        "\n",
        "df['Dependents'].replace('3+', '3', inplace = True)"
      ],
      "execution_count": 0,
      "outputs": []
    },
    {
      "cell_type": "code",
      "metadata": {
        "id": "Ae3nBEV5IJvu",
        "colab_type": "code",
        "colab": {
          "base_uri": "https://localhost:8080/",
          "height": 241
        },
        "outputId": "f7eedc0b-264b-4e26-9471-d8dbcd64f617"
      },
      "source": [
        "#Handling missing values\n",
        "\n",
        "# We will replace the missing values in categorical variable by most frequent value\n",
        "\n",
        "# We wil replace the missing values in numerical variable by mean of its column\n",
        "value = df['Gender'].value_counts().idxmax()\n",
        "\n",
        "df['Gender'].replace(np.nan, value, inplace = True)\n",
        "\n",
        "\n",
        "value2 = df['Married'].value_counts().idxmax()\n",
        "\n",
        "df['Married'].replace(np.nan, value2, inplace = True)\n",
        "\n",
        "\n",
        "value3 = df['Self_Employed'].value_counts().idxmax()\n",
        "\n",
        "df['Self_Employed'].replace(np.nan, value3, inplace = True)\n",
        "\n",
        "\n",
        "value4 = df['LoanAmount'].mean()\n",
        "\n",
        "df['LoanAmount'].replace(np.nan, value4, inplace = True)\n",
        "#Handling missing values\n",
        "value5 = df['Loan_Amount_Term'].mean()\n",
        "\n",
        "df['Loan_Amount_Term'].replace(np.nan, value5, inplace = True)\n",
        "\n",
        "df.head()"
      ],
      "execution_count": 6,
      "outputs": [
        {
          "output_type": "execute_result",
          "data": {
            "text/html": [
              "<div>\n",
              "<style scoped>\n",
              "    .dataframe tbody tr th:only-of-type {\n",
              "        vertical-align: middle;\n",
              "    }\n",
              "\n",
              "    .dataframe tbody tr th {\n",
              "        vertical-align: top;\n",
              "    }\n",
              "\n",
              "    .dataframe thead th {\n",
              "        text-align: right;\n",
              "    }\n",
              "</style>\n",
              "<table border=\"1\" class=\"dataframe\">\n",
              "  <thead>\n",
              "    <tr style=\"text-align: right;\">\n",
              "      <th></th>\n",
              "      <th>Loan_ID</th>\n",
              "      <th>Gender</th>\n",
              "      <th>Married</th>\n",
              "      <th>Dependents</th>\n",
              "      <th>Education</th>\n",
              "      <th>Self_Employed</th>\n",
              "      <th>ApplicantIncome</th>\n",
              "      <th>CoapplicantIncome</th>\n",
              "      <th>LoanAmount</th>\n",
              "      <th>Loan_Amount_Term</th>\n",
              "      <th>Credit_History</th>\n",
              "      <th>Property_Area</th>\n",
              "      <th>Loan_Status</th>\n",
              "    </tr>\n",
              "  </thead>\n",
              "  <tbody>\n",
              "    <tr>\n",
              "      <th>0</th>\n",
              "      <td>LP001002</td>\n",
              "      <td>Male</td>\n",
              "      <td>No</td>\n",
              "      <td>0</td>\n",
              "      <td>Graduate</td>\n",
              "      <td>No</td>\n",
              "      <td>5849</td>\n",
              "      <td>0.0</td>\n",
              "      <td>146.412162</td>\n",
              "      <td>360.0</td>\n",
              "      <td>1.0</td>\n",
              "      <td>Urban</td>\n",
              "      <td>Y</td>\n",
              "    </tr>\n",
              "    <tr>\n",
              "      <th>1</th>\n",
              "      <td>LP001003</td>\n",
              "      <td>Male</td>\n",
              "      <td>Yes</td>\n",
              "      <td>1</td>\n",
              "      <td>Graduate</td>\n",
              "      <td>No</td>\n",
              "      <td>4583</td>\n",
              "      <td>1508.0</td>\n",
              "      <td>128.000000</td>\n",
              "      <td>360.0</td>\n",
              "      <td>1.0</td>\n",
              "      <td>Rural</td>\n",
              "      <td>N</td>\n",
              "    </tr>\n",
              "    <tr>\n",
              "      <th>2</th>\n",
              "      <td>LP001005</td>\n",
              "      <td>Male</td>\n",
              "      <td>Yes</td>\n",
              "      <td>0</td>\n",
              "      <td>Graduate</td>\n",
              "      <td>Yes</td>\n",
              "      <td>3000</td>\n",
              "      <td>0.0</td>\n",
              "      <td>66.000000</td>\n",
              "      <td>360.0</td>\n",
              "      <td>1.0</td>\n",
              "      <td>Urban</td>\n",
              "      <td>Y</td>\n",
              "    </tr>\n",
              "    <tr>\n",
              "      <th>3</th>\n",
              "      <td>LP001006</td>\n",
              "      <td>Male</td>\n",
              "      <td>Yes</td>\n",
              "      <td>0</td>\n",
              "      <td>Not Graduate</td>\n",
              "      <td>No</td>\n",
              "      <td>2583</td>\n",
              "      <td>2358.0</td>\n",
              "      <td>120.000000</td>\n",
              "      <td>360.0</td>\n",
              "      <td>1.0</td>\n",
              "      <td>Urban</td>\n",
              "      <td>Y</td>\n",
              "    </tr>\n",
              "    <tr>\n",
              "      <th>4</th>\n",
              "      <td>LP001008</td>\n",
              "      <td>Male</td>\n",
              "      <td>No</td>\n",
              "      <td>0</td>\n",
              "      <td>Graduate</td>\n",
              "      <td>No</td>\n",
              "      <td>6000</td>\n",
              "      <td>0.0</td>\n",
              "      <td>141.000000</td>\n",
              "      <td>360.0</td>\n",
              "      <td>1.0</td>\n",
              "      <td>Urban</td>\n",
              "      <td>Y</td>\n",
              "    </tr>\n",
              "  </tbody>\n",
              "</table>\n",
              "</div>"
            ],
            "text/plain": [
              "    Loan_ID Gender Married  ... Credit_History Property_Area Loan_Status\n",
              "0  LP001002   Male      No  ...            1.0         Urban           Y\n",
              "1  LP001003   Male     Yes  ...            1.0         Rural           N\n",
              "2  LP001005   Male     Yes  ...            1.0         Urban           Y\n",
              "3  LP001006   Male     Yes  ...            1.0         Urban           Y\n",
              "4  LP001008   Male      No  ...            1.0         Urban           Y\n",
              "\n",
              "[5 rows x 13 columns]"
            ]
          },
          "metadata": {
            "tags": []
          },
          "execution_count": 6
        }
      ]
    },
    {
      "cell_type": "code",
      "metadata": {
        "id": "fmpG_WNcI6jj",
        "colab_type": "code",
        "colab": {
          "base_uri": "https://localhost:8080/",
          "height": 357
        },
        "outputId": "df26bb84-9d25-4e66-9e34-a0c1fb61c98f"
      },
      "source": [
        "df.info()"
      ],
      "execution_count": 7,
      "outputs": [
        {
          "output_type": "stream",
          "text": [
            "<class 'pandas.core.frame.DataFrame'>\n",
            "RangeIndex: 614 entries, 0 to 613\n",
            "Data columns (total 13 columns):\n",
            " #   Column             Non-Null Count  Dtype  \n",
            "---  ------             --------------  -----  \n",
            " 0   Loan_ID            614 non-null    object \n",
            " 1   Gender             614 non-null    object \n",
            " 2   Married            614 non-null    object \n",
            " 3   Dependents         599 non-null    object \n",
            " 4   Education          614 non-null    object \n",
            " 5   Self_Employed      614 non-null    object \n",
            " 6   ApplicantIncome    614 non-null    int64  \n",
            " 7   CoapplicantIncome  614 non-null    float64\n",
            " 8   LoanAmount         614 non-null    float64\n",
            " 9   Loan_Amount_Term   614 non-null    float64\n",
            " 10  Credit_History     564 non-null    float64\n",
            " 11  Property_Area      614 non-null    object \n",
            " 12  Loan_Status        614 non-null    object \n",
            "dtypes: float64(4), int64(1), object(8)\n",
            "memory usage: 62.5+ KB\n"
          ],
          "name": "stdout"
        }
      ]
    },
    {
      "cell_type": "code",
      "metadata": {
        "id": "pzlco2ntI84i",
        "colab_type": "code",
        "colab": {}
      },
      "source": [
        "#Handling missing values\n",
        "value6 = df['Dependents'].value_counts().idxmax()\n",
        "\n",
        "df['Dependents'].replace(np.nan, value6, inplace = True)\n",
        "\n",
        "\n",
        "value7 = df['Credit_History'].value_counts().idxmax()\n",
        "\n",
        "df['Credit_History'].replace(np.nan, value7, inplace = True)\n"
      ],
      "execution_count": 0,
      "outputs": []
    },
    {
      "cell_type": "code",
      "metadata": {
        "id": "qDQC9BWQJ6SR",
        "colab_type": "code",
        "colab": {
          "base_uri": "https://localhost:8080/",
          "height": 357
        },
        "outputId": "6279688b-7287-44fd-ad37-aacca90bad52"
      },
      "source": [
        "df.info()"
      ],
      "execution_count": 9,
      "outputs": [
        {
          "output_type": "stream",
          "text": [
            "<class 'pandas.core.frame.DataFrame'>\n",
            "RangeIndex: 614 entries, 0 to 613\n",
            "Data columns (total 13 columns):\n",
            " #   Column             Non-Null Count  Dtype  \n",
            "---  ------             --------------  -----  \n",
            " 0   Loan_ID            614 non-null    object \n",
            " 1   Gender             614 non-null    object \n",
            " 2   Married            614 non-null    object \n",
            " 3   Dependents         614 non-null    object \n",
            " 4   Education          614 non-null    object \n",
            " 5   Self_Employed      614 non-null    object \n",
            " 6   ApplicantIncome    614 non-null    int64  \n",
            " 7   CoapplicantIncome  614 non-null    float64\n",
            " 8   LoanAmount         614 non-null    float64\n",
            " 9   Loan_Amount_Term   614 non-null    float64\n",
            " 10  Credit_History     614 non-null    float64\n",
            " 11  Property_Area      614 non-null    object \n",
            " 12  Loan_Status        614 non-null    object \n",
            "dtypes: float64(4), int64(1), object(8)\n",
            "memory usage: 62.5+ KB\n"
          ],
          "name": "stdout"
        }
      ]
    },
    {
      "cell_type": "code",
      "metadata": {
        "id": "05GgcwV1J-SZ",
        "colab_type": "code",
        "colab": {
          "base_uri": "https://localhost:8080/",
          "height": 255
        },
        "outputId": "9aaef3ba-9e1d-4dc0-d093-0b430b41688f"
      },
      "source": [
        "# Converting the categorical variable type to category\n",
        "\n",
        "df['Gender'] = df['Gender'].astype('category')\n",
        "df['Married'] = df['Married'].astype('category')\n",
        "df['Education'] = df['Education'].astype('category')\n",
        "df['Self_Employed'] = df['Self_Employed'].astype('category')\n",
        "df['Property_Area'] = df['Property_Area'].astype('category')\n",
        "df['Loan_Status'] = df['Loan_Status'].astype('category')\n",
        "df.dtypes"
      ],
      "execution_count": 10,
      "outputs": [
        {
          "output_type": "execute_result",
          "data": {
            "text/plain": [
              "Loan_ID                object\n",
              "Gender               category\n",
              "Married              category\n",
              "Dependents             object\n",
              "Education            category\n",
              "Self_Employed        category\n",
              "ApplicantIncome         int64\n",
              "CoapplicantIncome     float64\n",
              "LoanAmount            float64\n",
              "Loan_Amount_Term      float64\n",
              "Credit_History        float64\n",
              "Property_Area        category\n",
              "Loan_Status          category\n",
              "dtype: object"
            ]
          },
          "metadata": {
            "tags": []
          },
          "execution_count": 10
        }
      ]
    },
    {
      "cell_type": "code",
      "metadata": {
        "id": "G9pRHQsvKFUM",
        "colab_type": "code",
        "colab": {
          "base_uri": "https://localhost:8080/",
          "height": 224
        },
        "outputId": "15469168-ac70-4cb4-91e1-42420604e049"
      },
      "source": [
        "# Converting the categorical variable to 1 and 0\n",
        "df['Gender'] = df['Gender'].cat.codes\n",
        "df['Married'] = df['Married'].cat.codes\n",
        "df['Education'] = df['Education'].cat.codes\n",
        "df['Self_Employed'] = df['Self_Employed'].cat.codes\n",
        "df['Property_Area'] = df['Property_Area'].cat.codes\n",
        "df['Loan_Status'] = df['Loan_Status'].cat.codes\n",
        "df.head()"
      ],
      "execution_count": 11,
      "outputs": [
        {
          "output_type": "execute_result",
          "data": {
            "text/html": [
              "<div>\n",
              "<style scoped>\n",
              "    .dataframe tbody tr th:only-of-type {\n",
              "        vertical-align: middle;\n",
              "    }\n",
              "\n",
              "    .dataframe tbody tr th {\n",
              "        vertical-align: top;\n",
              "    }\n",
              "\n",
              "    .dataframe thead th {\n",
              "        text-align: right;\n",
              "    }\n",
              "</style>\n",
              "<table border=\"1\" class=\"dataframe\">\n",
              "  <thead>\n",
              "    <tr style=\"text-align: right;\">\n",
              "      <th></th>\n",
              "      <th>Loan_ID</th>\n",
              "      <th>Gender</th>\n",
              "      <th>Married</th>\n",
              "      <th>Dependents</th>\n",
              "      <th>Education</th>\n",
              "      <th>Self_Employed</th>\n",
              "      <th>ApplicantIncome</th>\n",
              "      <th>CoapplicantIncome</th>\n",
              "      <th>LoanAmount</th>\n",
              "      <th>Loan_Amount_Term</th>\n",
              "      <th>Credit_History</th>\n",
              "      <th>Property_Area</th>\n",
              "      <th>Loan_Status</th>\n",
              "    </tr>\n",
              "  </thead>\n",
              "  <tbody>\n",
              "    <tr>\n",
              "      <th>0</th>\n",
              "      <td>LP001002</td>\n",
              "      <td>1</td>\n",
              "      <td>0</td>\n",
              "      <td>0</td>\n",
              "      <td>0</td>\n",
              "      <td>0</td>\n",
              "      <td>5849</td>\n",
              "      <td>0.0</td>\n",
              "      <td>146.412162</td>\n",
              "      <td>360.0</td>\n",
              "      <td>1.0</td>\n",
              "      <td>2</td>\n",
              "      <td>1</td>\n",
              "    </tr>\n",
              "    <tr>\n",
              "      <th>1</th>\n",
              "      <td>LP001003</td>\n",
              "      <td>1</td>\n",
              "      <td>1</td>\n",
              "      <td>1</td>\n",
              "      <td>0</td>\n",
              "      <td>0</td>\n",
              "      <td>4583</td>\n",
              "      <td>1508.0</td>\n",
              "      <td>128.000000</td>\n",
              "      <td>360.0</td>\n",
              "      <td>1.0</td>\n",
              "      <td>0</td>\n",
              "      <td>0</td>\n",
              "    </tr>\n",
              "    <tr>\n",
              "      <th>2</th>\n",
              "      <td>LP001005</td>\n",
              "      <td>1</td>\n",
              "      <td>1</td>\n",
              "      <td>0</td>\n",
              "      <td>0</td>\n",
              "      <td>1</td>\n",
              "      <td>3000</td>\n",
              "      <td>0.0</td>\n",
              "      <td>66.000000</td>\n",
              "      <td>360.0</td>\n",
              "      <td>1.0</td>\n",
              "      <td>2</td>\n",
              "      <td>1</td>\n",
              "    </tr>\n",
              "    <tr>\n",
              "      <th>3</th>\n",
              "      <td>LP001006</td>\n",
              "      <td>1</td>\n",
              "      <td>1</td>\n",
              "      <td>0</td>\n",
              "      <td>1</td>\n",
              "      <td>0</td>\n",
              "      <td>2583</td>\n",
              "      <td>2358.0</td>\n",
              "      <td>120.000000</td>\n",
              "      <td>360.0</td>\n",
              "      <td>1.0</td>\n",
              "      <td>2</td>\n",
              "      <td>1</td>\n",
              "    </tr>\n",
              "    <tr>\n",
              "      <th>4</th>\n",
              "      <td>LP001008</td>\n",
              "      <td>1</td>\n",
              "      <td>0</td>\n",
              "      <td>0</td>\n",
              "      <td>0</td>\n",
              "      <td>0</td>\n",
              "      <td>6000</td>\n",
              "      <td>0.0</td>\n",
              "      <td>141.000000</td>\n",
              "      <td>360.0</td>\n",
              "      <td>1.0</td>\n",
              "      <td>2</td>\n",
              "      <td>1</td>\n",
              "    </tr>\n",
              "  </tbody>\n",
              "</table>\n",
              "</div>"
            ],
            "text/plain": [
              "    Loan_ID  Gender  Married  ... Credit_History  Property_Area  Loan_Status\n",
              "0  LP001002       1        0  ...            1.0              2            1\n",
              "1  LP001003       1        1  ...            1.0              0            0\n",
              "2  LP001005       1        1  ...            1.0              2            1\n",
              "3  LP001006       1        1  ...            1.0              2            1\n",
              "4  LP001008       1        0  ...            1.0              2            1\n",
              "\n",
              "[5 rows x 13 columns]"
            ]
          },
          "metadata": {
            "tags": []
          },
          "execution_count": 11
        }
      ]
    },
    {
      "cell_type": "code",
      "metadata": {
        "id": "wuJ6emdzKKh1",
        "colab_type": "code",
        "colab": {}
      },
      "source": [
        "df['Credit_History'] = df['Credit_History'].astype('object')"
      ],
      "execution_count": 0,
      "outputs": []
    },
    {
      "cell_type": "code",
      "metadata": {
        "id": "Jy92yZkbLAC3",
        "colab_type": "code",
        "colab": {
          "base_uri": "https://localhost:8080/",
          "height": 357
        },
        "outputId": "343522f5-e2da-4b0f-e86c-4beac49231a1"
      },
      "source": [
        "df.info()"
      ],
      "execution_count": 13,
      "outputs": [
        {
          "output_type": "stream",
          "text": [
            "<class 'pandas.core.frame.DataFrame'>\n",
            "RangeIndex: 614 entries, 0 to 613\n",
            "Data columns (total 13 columns):\n",
            " #   Column             Non-Null Count  Dtype  \n",
            "---  ------             --------------  -----  \n",
            " 0   Loan_ID            614 non-null    object \n",
            " 1   Gender             614 non-null    int8   \n",
            " 2   Married            614 non-null    int8   \n",
            " 3   Dependents         614 non-null    object \n",
            " 4   Education          614 non-null    int8   \n",
            " 5   Self_Employed      614 non-null    int8   \n",
            " 6   ApplicantIncome    614 non-null    int64  \n",
            " 7   CoapplicantIncome  614 non-null    float64\n",
            " 8   LoanAmount         614 non-null    float64\n",
            " 9   Loan_Amount_Term   614 non-null    float64\n",
            " 10  Credit_History     614 non-null    object \n",
            " 11  Property_Area      614 non-null    int8   \n",
            " 12  Loan_Status        614 non-null    int8   \n",
            "dtypes: float64(3), int64(1), int8(6), object(3)\n",
            "memory usage: 37.3+ KB\n"
          ],
          "name": "stdout"
        }
      ]
    },
    {
      "cell_type": "code",
      "metadata": {
        "id": "GvlrA1p0LBLx",
        "colab_type": "code",
        "colab": {
          "base_uri": "https://localhost:8080/",
          "height": 224
        },
        "outputId": "61f57d91-c8db-40f8-a459-1e335d7fb837"
      },
      "source": [
        "df.head()"
      ],
      "execution_count": 14,
      "outputs": [
        {
          "output_type": "execute_result",
          "data": {
            "text/html": [
              "<div>\n",
              "<style scoped>\n",
              "    .dataframe tbody tr th:only-of-type {\n",
              "        vertical-align: middle;\n",
              "    }\n",
              "\n",
              "    .dataframe tbody tr th {\n",
              "        vertical-align: top;\n",
              "    }\n",
              "\n",
              "    .dataframe thead th {\n",
              "        text-align: right;\n",
              "    }\n",
              "</style>\n",
              "<table border=\"1\" class=\"dataframe\">\n",
              "  <thead>\n",
              "    <tr style=\"text-align: right;\">\n",
              "      <th></th>\n",
              "      <th>Loan_ID</th>\n",
              "      <th>Gender</th>\n",
              "      <th>Married</th>\n",
              "      <th>Dependents</th>\n",
              "      <th>Education</th>\n",
              "      <th>Self_Employed</th>\n",
              "      <th>ApplicantIncome</th>\n",
              "      <th>CoapplicantIncome</th>\n",
              "      <th>LoanAmount</th>\n",
              "      <th>Loan_Amount_Term</th>\n",
              "      <th>Credit_History</th>\n",
              "      <th>Property_Area</th>\n",
              "      <th>Loan_Status</th>\n",
              "    </tr>\n",
              "  </thead>\n",
              "  <tbody>\n",
              "    <tr>\n",
              "      <th>0</th>\n",
              "      <td>LP001002</td>\n",
              "      <td>1</td>\n",
              "      <td>0</td>\n",
              "      <td>0</td>\n",
              "      <td>0</td>\n",
              "      <td>0</td>\n",
              "      <td>5849</td>\n",
              "      <td>0.0</td>\n",
              "      <td>146.412162</td>\n",
              "      <td>360.0</td>\n",
              "      <td>1</td>\n",
              "      <td>2</td>\n",
              "      <td>1</td>\n",
              "    </tr>\n",
              "    <tr>\n",
              "      <th>1</th>\n",
              "      <td>LP001003</td>\n",
              "      <td>1</td>\n",
              "      <td>1</td>\n",
              "      <td>1</td>\n",
              "      <td>0</td>\n",
              "      <td>0</td>\n",
              "      <td>4583</td>\n",
              "      <td>1508.0</td>\n",
              "      <td>128.000000</td>\n",
              "      <td>360.0</td>\n",
              "      <td>1</td>\n",
              "      <td>0</td>\n",
              "      <td>0</td>\n",
              "    </tr>\n",
              "    <tr>\n",
              "      <th>2</th>\n",
              "      <td>LP001005</td>\n",
              "      <td>1</td>\n",
              "      <td>1</td>\n",
              "      <td>0</td>\n",
              "      <td>0</td>\n",
              "      <td>1</td>\n",
              "      <td>3000</td>\n",
              "      <td>0.0</td>\n",
              "      <td>66.000000</td>\n",
              "      <td>360.0</td>\n",
              "      <td>1</td>\n",
              "      <td>2</td>\n",
              "      <td>1</td>\n",
              "    </tr>\n",
              "    <tr>\n",
              "      <th>3</th>\n",
              "      <td>LP001006</td>\n",
              "      <td>1</td>\n",
              "      <td>1</td>\n",
              "      <td>0</td>\n",
              "      <td>1</td>\n",
              "      <td>0</td>\n",
              "      <td>2583</td>\n",
              "      <td>2358.0</td>\n",
              "      <td>120.000000</td>\n",
              "      <td>360.0</td>\n",
              "      <td>1</td>\n",
              "      <td>2</td>\n",
              "      <td>1</td>\n",
              "    </tr>\n",
              "    <tr>\n",
              "      <th>4</th>\n",
              "      <td>LP001008</td>\n",
              "      <td>1</td>\n",
              "      <td>0</td>\n",
              "      <td>0</td>\n",
              "      <td>0</td>\n",
              "      <td>0</td>\n",
              "      <td>6000</td>\n",
              "      <td>0.0</td>\n",
              "      <td>141.000000</td>\n",
              "      <td>360.0</td>\n",
              "      <td>1</td>\n",
              "      <td>2</td>\n",
              "      <td>1</td>\n",
              "    </tr>\n",
              "  </tbody>\n",
              "</table>\n",
              "</div>"
            ],
            "text/plain": [
              "    Loan_ID  Gender  Married  ... Credit_History  Property_Area  Loan_Status\n",
              "0  LP001002       1        0  ...              1              2            1\n",
              "1  LP001003       1        1  ...              1              0            0\n",
              "2  LP001005       1        1  ...              1              2            1\n",
              "3  LP001006       1        1  ...              1              2            1\n",
              "4  LP001008       1        0  ...              1              2            1\n",
              "\n",
              "[5 rows x 13 columns]"
            ]
          },
          "metadata": {
            "tags": []
          },
          "execution_count": 14
        }
      ]
    },
    {
      "cell_type": "code",
      "metadata": {
        "id": "s92vNwHdLDa_",
        "colab_type": "code",
        "colab": {
          "base_uri": "https://localhost:8080/",
          "height": 51
        },
        "outputId": "c5ea73b8-8256-44d3-ece3-91f92e9f21fe"
      },
      "source": [
        "# Splitting the data into train and test set\n",
        "\n",
        "from sklearn.model_selection import train_test_split\n",
        "\n",
        "X = df.drop(['Loan_ID', 'Loan_Status'], axis=1)\n",
        "\n",
        "Y = df['Loan_Status']\n",
        "\n",
        "X_train, X_test, y_train, y_test = train_test_split(X, Y, test_size = 0.25, random_state=1)\n",
        "\n",
        "print(\"number of test samples :\", X_test.shape[0])\n",
        "print(\"number of training samples:\",X_train.shape[0])"
      ],
      "execution_count": 15,
      "outputs": [
        {
          "output_type": "stream",
          "text": [
            "number of test samples : 154\n",
            "number of training samples: 460\n"
          ],
          "name": "stdout"
        }
      ]
    },
    {
      "cell_type": "code",
      "metadata": {
        "id": "LeZ7nJd8LKzQ",
        "colab_type": "code",
        "colab": {}
      },
      "source": [
        "# Implementing logistic regression\n",
        "\n",
        "from sklearn.linear_model import LogisticRegression\n",
        "\n",
        "LR_model = LogisticRegression(C=0.01)\n",
        "\n",
        "LR_model.fit(X_train, y_train)\n",
        "\n",
        "pred = LR_model.predict(X_test)"
      ],
      "execution_count": 0,
      "outputs": []
    },
    {
      "cell_type": "code",
      "metadata": {
        "id": "0huSS9CiLN14",
        "colab_type": "code",
        "colab": {
          "base_uri": "https://localhost:8080/",
          "height": 34
        },
        "outputId": "cddbc43a-ab15-496c-a244-674d1e7344ad"
      },
      "source": [
        "# finding accuracy\n",
        "from sklearn.metrics import accuracy_score\n",
        "\n",
        "print(accuracy_score(y_test, pred, normalize = True)*100)"
      ],
      "execution_count": 17,
      "outputs": [
        {
          "output_type": "stream",
          "text": [
            "67.53246753246754\n"
          ],
          "name": "stdout"
        }
      ]
    },
    {
      "cell_type": "code",
      "metadata": {
        "id": "7qIfLPGbNerr",
        "colab_type": "code",
        "colab": {
          "base_uri": "https://localhost:8080/",
          "height": 34
        },
        "outputId": "dc291dc8-c396-4180-cbf5-d05328468aa3"
      },
      "source": [
        "# Implementing 5-fold cross validation\n",
        "from sklearn.model_selection import KFold\n",
        "kf = KFold(n_splits=5,shuffle=False)\n",
        "LR_model1 = LogisticRegression(C=0.01)\n",
        "accuracy_model = []\n",
        "\n",
        "for train_index, test_index in kf.split(X):\n",
        "    # Split train-test\n",
        "    X_train, X_test = X.iloc[train_index], X.iloc[test_index]\n",
        "    y_train, y_test = Y[train_index], Y[test_index]\n",
        "    # Train the model\n",
        "    model = LR_model1.fit(X_train, y_train)\n",
        "    # Append to accuracy_model the accuracy of the model\n",
        "    accuracy_model.append(accuracy_score(y_test, model.predict(X_test), normalize=True)*100)\n",
        "    \n",
        "\n",
        "\n",
        "ave_accuracy = (accuracy_model[0]+accuracy_model[1]+accuracy_model[2]+accuracy_model[3]+accuracy_model[4])/5\n",
        "print(ave_accuracy)\n",
        "\n",
        "              "
      ],
      "execution_count": 18,
      "outputs": [
        {
          "output_type": "stream",
          "text": [
            "68.56590697054511\n"
          ],
          "name": "stdout"
        }
      ]
    },
    {
      "cell_type": "code",
      "metadata": {
        "id": "SWRba95OOYmy",
        "colab_type": "code",
        "colab": {
          "base_uri": "https://localhost:8080/",
          "height": 85
        },
        "outputId": "ab9df12a-3c08-4dea-aba2-7fd0787ff563"
      },
      "source": [
        "# Implementing Support vector classifier\n",
        "\n",
        "from sklearn.svm import SVC\n",
        "svclassifier = SVC(kernel='linear')\n",
        "svclassifier.fit(X_train, y_train)"
      ],
      "execution_count": 19,
      "outputs": [
        {
          "output_type": "execute_result",
          "data": {
            "text/plain": [
              "SVC(C=1.0, break_ties=False, cache_size=200, class_weight=None, coef0=0.0,\n",
              "    decision_function_shape='ovr', degree=3, gamma='scale', kernel='linear',\n",
              "    max_iter=-1, probability=False, random_state=None, shrinking=True,\n",
              "    tol=0.001, verbose=False)"
            ]
          },
          "metadata": {
            "tags": []
          },
          "execution_count": 19
        }
      ]
    },
    {
      "cell_type": "code",
      "metadata": {
        "id": "-5TzQYM9PTwx",
        "colab_type": "code",
        "colab": {
          "base_uri": "https://localhost:8080/",
          "height": 34
        },
        "outputId": "f03c3dc2-cfec-4679-b526-9d56434b1a0a"
      },
      "source": [
        "# Finding accuracy\n",
        "\n",
        "y_pred = svclassifier.predict(X_test)\n",
        "\n",
        "print(accuracy_score(y_test, y_pred, normalize = True)*100)"
      ],
      "execution_count": 20,
      "outputs": [
        {
          "output_type": "stream",
          "text": [
            "79.50819672131148\n"
          ],
          "name": "stdout"
        }
      ]
    },
    {
      "cell_type": "code",
      "metadata": {
        "id": "GOrksSTsRFoP",
        "colab_type": "code",
        "colab": {
          "base_uri": "https://localhost:8080/",
          "height": 34
        },
        "outputId": "9c581995-0962-40d0-b27c-58f8dc5e6e0b"
      },
      "source": [
        "# Implementing 5-fold cross validation\n",
        "\n",
        "from sklearn.model_selection import KFold\n",
        "kf = KFold(n_splits=5,shuffle=False)\n",
        "svc_classifier = SVC(kernel = 'linear')\n",
        "accuracy_model = []\n",
        "\n",
        "for train_index, test_index in kf.split(X):\n",
        "    # Split train-test\n",
        "    X_train, X_test = X.iloc[train_index], X.iloc[test_index]\n",
        "    y_train, y_test = Y[train_index], Y[test_index]\n",
        "    # Train the model\n",
        "    model = svc_classifier.fit(X_train, y_train)\n",
        "    # Append to accuracy_model the accuracy of the model\n",
        "    accuracy_model.append(accuracy_score(y_test, model.predict(X_test), normalize=True)*100)\n",
        "    \n",
        "\n",
        "\n",
        "ave_accuracy = (accuracy_model[0]+accuracy_model[1]+accuracy_model[2]+accuracy_model[3]+accuracy_model[4])/5\n",
        "print(ave_accuracy)\n"
      ],
      "execution_count": 21,
      "outputs": [
        {
          "output_type": "stream",
          "text": [
            "79.47887511662002\n"
          ],
          "name": "stdout"
        }
      ]
    },
    {
      "cell_type": "code",
      "metadata": {
        "id": "cTVf6B1ISUQ7",
        "colab_type": "code",
        "colab": {
          "base_uri": "https://localhost:8080/",
          "height": 119
        },
        "outputId": "b0a5a62f-abdf-4153-a85a-3af203de6ccb"
      },
      "source": [
        "# implementing Decision Tree Classifier\n",
        "\n",
        "from sklearn.tree import DecisionTreeClassifier\n",
        "\n",
        "Tree = DecisionTreeClassifier(criterion=\"entropy\", max_depth = 4)\n",
        "\n",
        "Tree.fit(X_train, y_train)"
      ],
      "execution_count": 22,
      "outputs": [
        {
          "output_type": "execute_result",
          "data": {
            "text/plain": [
              "DecisionTreeClassifier(ccp_alpha=0.0, class_weight=None, criterion='entropy',\n",
              "                       max_depth=4, max_features=None, max_leaf_nodes=None,\n",
              "                       min_impurity_decrease=0.0, min_impurity_split=None,\n",
              "                       min_samples_leaf=1, min_samples_split=2,\n",
              "                       min_weight_fraction_leaf=0.0, presort='deprecated',\n",
              "                       random_state=None, splitter='best')"
            ]
          },
          "metadata": {
            "tags": []
          },
          "execution_count": 22
        }
      ]
    },
    {
      "cell_type": "code",
      "metadata": {
        "id": "hNz-80gLcJTU",
        "colab_type": "code",
        "colab": {
          "base_uri": "https://localhost:8080/",
          "height": 34
        },
        "outputId": "b173ea4b-48f3-4ab7-f1ac-1cdc26e6c71c"
      },
      "source": [
        "# Predicting the result\n",
        "PredTree = Tree.predict(X_test)\n",
        "\n",
        "print(accuracy_score(y_test, PredTree, normalize=True)*100)"
      ],
      "execution_count": 23,
      "outputs": [
        {
          "output_type": "stream",
          "text": [
            "81.14754098360656\n"
          ],
          "name": "stdout"
        }
      ]
    },
    {
      "cell_type": "code",
      "metadata": {
        "id": "1uPd3ipdcPFD",
        "colab_type": "code",
        "colab": {
          "base_uri": "https://localhost:8080/",
          "height": 34
        },
        "outputId": "b624f518-aa77-4ea0-c710-541297e9c2b2"
      },
      "source": [
        "# Implementing 5-fold cross validation\n",
        "\n",
        "kf = KFold(n_splits=5,shuffle=False)\n",
        "\n",
        "accuracy_model = []\n",
        "\n",
        "for train_index, test_index in kf.split(X):\n",
        "    # Split train-test\n",
        "    X_train, X_test = X.iloc[train_index], X.iloc[test_index]\n",
        "    y_train, y_test = Y[train_index], Y[test_index]\n",
        "    # Train the model\n",
        "    model = Tree.fit(X_train, y_train)\n",
        "    # Append to accuracy_model the accuracy of the model\n",
        "    accuracy_model.append(accuracy_score(y_test, model.predict(X_test), normalize=True)*100)\n",
        "    \n",
        "\n",
        "\n",
        "ave_accuracy = (accuracy_model[0]+accuracy_model[1]+accuracy_model[2]+accuracy_model[3]+accuracy_model[4])/5\n",
        "print(ave_accuracy)"
      ],
      "execution_count": 24,
      "outputs": [
        {
          "output_type": "stream",
          "text": [
            "80.13194722111157\n"
          ],
          "name": "stdout"
        }
      ]
    },
    {
      "cell_type": "code",
      "metadata": {
        "id": "hvjBVgxfcVUP",
        "colab_type": "code",
        "colab": {}
      },
      "source": [
        "# Implementing Random Forest Classifier\n",
        "\n",
        "from sklearn.ensemble import RandomForestClassifier\n",
        "\n",
        "clf=RandomForestClassifier(n_estimators=600)\n",
        "\n",
        "clf.fit(X_train,y_train)\n",
        "\n",
        "y_pred=clf.predict(X_test)\n"
      ],
      "execution_count": 0,
      "outputs": []
    },
    {
      "cell_type": "code",
      "metadata": {
        "id": "b7sg17aUccHU",
        "colab_type": "code",
        "colab": {
          "base_uri": "https://localhost:8080/",
          "height": 34
        },
        "outputId": "7c84f44b-c279-480d-96fe-4bcc2c14bdaf"
      },
      "source": [
        "# Finding accuracy\n",
        "\n",
        "print(accuracy_score(y_test, y_pred, normalize=True)*100)"
      ],
      "execution_count": 26,
      "outputs": [
        {
          "output_type": "stream",
          "text": [
            "80.32786885245902\n"
          ],
          "name": "stdout"
        }
      ]
    },
    {
      "cell_type": "code",
      "metadata": {
        "id": "5iN_Pz86ce9D",
        "colab_type": "code",
        "colab": {
          "base_uri": "https://localhost:8080/",
          "height": 34
        },
        "outputId": "d346861b-596e-4333-a5db-88a9ab077316"
      },
      "source": [
        "# Implementing 5-fold cross validation\n",
        "\n",
        "kf = KFold(n_splits=5,shuffle=False)\n",
        "\n",
        "accuracy_model = []\n",
        "\n",
        "for train_index, test_index in kf.split(X):\n",
        "    # Split train-test\n",
        "    X_train, X_test = X.iloc[train_index], X.iloc[test_index]\n",
        "    y_train, y_test = Y[train_index], Y[test_index]\n",
        "    # Train the model\n",
        "    model = clf.fit(X_train, y_train)\n",
        "    # Append to accuracy_model the accuracy of the model\n",
        "    accuracy_model.append(accuracy_score(y_test, model.predict(X_test), normalize=True)*100)\n",
        "    \n",
        "\n",
        "\n",
        "ave_accuracy = (accuracy_model[0]+accuracy_model[1]+accuracy_model[2]+accuracy_model[3]+accuracy_model[4])/5\n",
        "print(ave_accuracy)"
      ],
      "execution_count": 28,
      "outputs": [
        {
          "output_type": "stream",
          "text": [
            "78.83113421298148\n"
          ],
          "name": "stdout"
        }
      ]
    },
    {
      "cell_type": "code",
      "metadata": {
        "id": "nJhxiwYHclB8",
        "colab_type": "code",
        "colab": {
          "base_uri": "https://localhost:8080/",
          "height": 389
        },
        "outputId": "1ec38d30-e95b-4f47-f67f-7c9d3f389732"
      },
      "source": [
        "# Now lets do some feature selection by visualization\n",
        "# let's look at the target percentage\n",
        "\n",
        "plt.figure(figsize=(8,6))\n",
        "sns.countplot(df['Loan_Status']);"
      ],
      "execution_count": 29,
      "outputs": [
        {
          "output_type": "display_data",
          "data": {
            "image/png": "[encoded data removed]",
            "text/plain": [
              "<Figure size 576x432 with 1 Axes>"
            ]
          },
          "metadata": {
            "tags": [],
            "needs_background": "light"
          }
        }
      ]
    },
    {
      "cell_type": "code",
      "metadata": {
        "id": "WOHmxIlCcvW4",
        "colab_type": "code",
        "colab": {
          "base_uri": "https://localhost:8080/",
          "height": 240
        },
        "outputId": "76ac1b30-cb00-4967-ed17-53f80e6c7309"
      },
      "source": [
        "# First lets viualize the categorical data\n",
        "\n",
        "# Credit_History\n",
        "\n",
        "grid = sns.FacetGrid(df,col='Loan_Status', size=3.2, aspect=1.6)\n",
        "grid.map(sns.countplot, 'Credit_History');\n",
        "\n",
        "# This is a good feature because if you have Credit_History as 1 then there is a good chance that loan will be granted\n",
        "# If your credit_history is 0 then you will not be granted a loan for sure\n",
        "\n",
        "# Excellent Feature"
      ],
      "execution_count": 30,
      "outputs": [
        {
          "output_type": "display_data",
          "data": {
            "image/png": "[encoded data removed]",
            "text/plain": [
              "<Figure size 737.28x230.4 with 2 Axes>"
            ]
          },
          "metadata": {
            "tags": [],
            "needs_background": "light"
          }
        }
      ]
    },
    {
      "cell_type": "code",
      "metadata": {
        "id": "PZWP8dtbcyxH",
        "colab_type": "code",
        "colab": {
          "base_uri": "https://localhost:8080/",
          "height": 240
        },
        "outputId": "1eecc664-fdea-4600-a553-4a8c97f1bece"
      },
      "source": [
        "# Gender\n",
        "\n",
        "# 1 is Male\n",
        "# 0 is Female\n",
        "grid = sns.FacetGrid(df,col='Loan_Status', size=3.2, aspect=1.6)\n",
        "grid.map(sns.countplot, 'Gender');\n",
        "\n",
        "# Males have higher chances of getting loan compared to female\n",
        "# So this is also a good feature"
      ],
      "execution_count": 31,
      "outputs": [
        {
          "output_type": "display_data",
          "data": {
            "image/png": "[encoded data removed]",
            "text/plain": [
              "<Figure size 737.28x230.4 with 2 Axes>"
            ]
          },
          "metadata": {
            "tags": [],
            "needs_background": "light"
          }
        }
      ]
    },
    {
      "cell_type": "code",
      "metadata": {
        "id": "BMISUi_cc2q1",
        "colab_type": "code",
        "colab": {
          "base_uri": "https://localhost:8080/",
          "height": 336
        },
        "outputId": "4e7131a5-4e5b-42f9-bb99-4b56a289c3d3"
      },
      "source": [
        "# Married\n",
        "plt.figure(figsize=(15,5))\n",
        "sns.countplot(x='Married', hue='Loan_Status', data=df);\n",
        "\n",
        "# Married people are going to have more loan approval than unmarried\n",
        "\n",
        "# So this is also a good feature\n"
      ],
      "execution_count": 32,
      "outputs": [
        {
          "output_type": "display_data",
          "data": {
            "image/png": "[encoded data removed]",
            "text/plain": [
              "<Figure size 1080x360 with 1 Axes>"
            ]
          },
          "metadata": {
            "tags": [],
            "needs_background": "light"
          }
        }
      ]
    },
    {
      "cell_type": "code",
      "metadata": {
        "id": "7tEoXR08c5eZ",
        "colab_type": "code",
        "colab": {
          "base_uri": "https://localhost:8080/",
          "height": 334
        },
        "outputId": "2eeb3ce6-bd2c-451f-dbd3-7fb71b17de7a"
      },
      "source": [
        "# Dependents\n",
        "\n",
        "plt.figure(figsize=(15,5))\n",
        "sns.countplot(x='Dependents', hue='Loan_Status', data=df);\n",
        "\n",
        "# A person with zero dependents has higher chances of loan to get approved\n",
        "\n",
        "# It is also a good feature\n"
      ],
      "execution_count": 33,
      "outputs": [
        {
          "output_type": "display_data",
          "data": {
            "image/png": "[encoded data removed]",
            "text/plain": [
              "<Figure size 1080x360 with 1 Axes>"
            ]
          },
          "metadata": {
            "tags": [],
            "needs_background": "light"
          }
        }
      ]
    },
    {
      "cell_type": "code",
      "metadata": {
        "id": "f6u6G8Ofc8b3",
        "colab_type": "code",
        "colab": {
          "base_uri": "https://localhost:8080/",
          "height": 240
        },
        "outputId": "d74c12ee-ee15-4d18-e2b5-310981dc997b"
      },
      "source": [
        "# Education\n",
        "# 0 is graduated\n",
        "\n",
        "# 1 is not graduated\n",
        "\n",
        "grid = sns.FacetGrid(df,col='Loan_Status', size=3.2, aspect=1.6)\n",
        "grid.map(sns.countplot, 'Education');\n",
        "\n",
        "# Graduated has a little more chances of loan to be approved than non-graduated\n",
        "\n",
        "# Moderate feature"
      ],
      "execution_count": 34,
      "outputs": [
        {
          "output_type": "display_data",
          "data": {
            "image/png": "[encoded data removed]",
            "text/plain": [
              "<Figure size 737.28x230.4 with 2 Axes>"
            ]
          },
          "metadata": {
            "tags": [],
            "needs_background": "light"
          }
        }
      ]
    },
    {
      "cell_type": "code",
      "metadata": {
        "id": "On2M-CeSdBBh",
        "colab_type": "code",
        "colab": {
          "base_uri": "https://localhost:8080/",
          "height": 240
        },
        "outputId": "9c6cbed0-0d32-41c8-aa4e-d55384dc8a3b"
      },
      "source": [
        " # Self_Employed\n",
        "# 0 is not self_employed\n",
        "\n",
        "# 1 is self_employed\n",
        "\n",
        "grid = sns.FacetGrid(df,col='Loan_Status', size=3.2, aspect=1.6)\n",
        "grid.map(sns.countplot, 'Self_Employed');\n",
        "\n",
        "# Those who are not self_employed have moderate chances to get a loan from the bank\n",
        "\n",
        "# Moderate feature\n",
        "\n",
        "# We will drop this feature and all other moderate feature and will see its effect on accuracy\n"
      ],
      "execution_count": 35,
      "outputs": [
        {
          "output_type": "display_data",
          "data": {
            "image/png": "[encoded data removed]",
            "text/plain": [
              "<Figure size 737.28x230.4 with 2 Axes>"
            ]
          },
          "metadata": {
            "tags": [],
            "needs_background": "light"
          }
        }
      ]
    },
    {
      "cell_type": "code",
      "metadata": {
        "id": "wQS33UhZdD_g",
        "colab_type": "code",
        "colab": {
          "base_uri": "https://localhost:8080/",
          "height": 335
        },
        "outputId": "2cbce208-ef80-40f5-d458-290c0f7ca5c7"
      },
      "source": [
        "# Property_Area\n",
        "# 2 is Urban\n",
        "# 1 is semi urban\n",
        "# 0 is Rural\n",
        "\n",
        "plt.figure(figsize=(15,5))\n",
        "sns.countplot(x='Property_Area', hue='Loan_Status', data=df);\n",
        "\n",
        "# Semi_urban area has more than chances to get their loan approved than Urban and Rural Areas\n",
        "\n",
        "# good feature"
      ],
      "execution_count": 36,
      "outputs": [
        {
          "output_type": "display_data",
          "data": {
            "image/png": "[encoded data removed]",
            "text/plain": [
              "<Figure size 1080x360 with 1 Axes>"
            ]
          },
          "metadata": {
            "tags": [],
            "needs_background": "light"
          }
        }
      ]
    },
    {
      "cell_type": "code",
      "metadata": {
        "id": "m3XF3YLkdHN4",
        "colab_type": "code",
        "colab": {
          "base_uri": "https://localhost:8080/",
          "height": 265
        },
        "outputId": "4c1dbb23-cda5-42d8-ab46-078bf2a079da"
      },
      "source": [
        "# Now lets visualize the continous varialbe. Here we will detect outliers if any\n",
        "\n",
        "# ApplicantIncome\n",
        "\n",
        "plt.scatter(df['ApplicantIncome'], df['Loan_Status']);\n",
        "\n",
        "# There is no obvious pattern"
      ],
      "execution_count": 37,
      "outputs": [
        {
          "output_type": "display_data",
          "data": {
            "image/png": "[encoded data removed]",
            "text/plain": [
              "<Figure size 432x288 with 1 Axes>"
            ]
          },
          "metadata": {
            "tags": [],
            "needs_background": "light"
          }
        }
      ]
    },
    {
      "cell_type": "code",
      "metadata": {
        "id": "5U9uZhjTdKMq",
        "colab_type": "code",
        "colab": {
          "base_uri": "https://localhost:8080/",
          "height": 265
        },
        "outputId": "6071ab9c-e2d5-43b9-9ce9-41c59a5b255e"
      },
      "source": [
        "\n",
        "# CoApplicantIncome\n",
        "\n",
        "plt.scatter(df['CoapplicantIncome'], df['Loan_Status']);\n",
        "\n",
        "# There is no obvious pattern as well"
      ],
      "execution_count": 38,
      "outputs": [
        {
          "output_type": "display_data",
          "data": {
            "image/png": "[encoded data removed]",
            "text/plain": [
              "<Figure size 432x288 with 1 Axes>"
            ]
          },
          "metadata": {
            "tags": [],
            "needs_background": "light"
          }
        }
      ]
    },
    {
      "cell_type": "code",
      "metadata": {
        "id": "yciKNoEydNFy",
        "colab_type": "code",
        "colab": {
          "base_uri": "https://localhost:8080/",
          "height": 265
        },
        "outputId": "7300db67-0419-4564-a27b-2317bb2db528"
      },
      "source": [
        "\n",
        "# LoanAmount\n",
        "\n",
        "plt.scatter(df['LoanAmount'], df['Loan_Status']);\n",
        "\n",
        "# There is no obvious pattern as well"
      ],
      "execution_count": 39,
      "outputs": [
        {
          "output_type": "display_data",
          "data": {
            "image/png": "[encoded data removed]",
            "text/plain": [
              "<Figure size 432x288 with 1 Axes>"
            ]
          },
          "metadata": {
            "tags": [],
            "needs_background": "light"
          }
        }
      ]
    },
    {
      "cell_type": "code",
      "metadata": {
        "id": "80UcvWJXdPox",
        "colab_type": "code",
        "colab": {
          "base_uri": "https://localhost:8080/",
          "height": 265
        },
        "outputId": "21a11fa5-b36c-48fd-ab26-00c77fd655e6"
      },
      "source": [
        "# Now lets detect outliers if any in the continous variables\n",
        "\n",
        "# LoanAmount\n",
        "\n",
        "sns.boxplot(df['LoanAmount']);\n",
        "plt.title('', fontsize=15);\n",
        "plt.xlabel('');\n",
        "\n",
        "# We can see there are a lot of outliers"
      ],
      "execution_count": 40,
      "outputs": [
        {
          "output_type": "display_data",
          "data": {
            "image/png": "[encoded data removed]",
            "text/plain": [
              "<Figure size 432x288 with 1 Axes>"
            ]
          },
          "metadata": {
            "tags": [],
            "needs_background": "light"
          }
        }
      ]
    },
    {
      "cell_type": "code",
      "metadata": {
        "id": "UmTKkwSIdVkj",
        "colab_type": "code",
        "colab": {
          "base_uri": "https://localhost:8080/",
          "height": 265
        },
        "outputId": "dad28e4c-5fab-4c80-ca5d-3e60c69bd795"
      },
      "source": [
        "# CoApplicatnIncome\n",
        "sns.boxplot(df['ApplicantIncome']);\n",
        "plt.title('', fontsize=15);\n",
        "plt.xlabel('');"
      ],
      "execution_count": 41,
      "outputs": [
        {
          "output_type": "display_data",
          "data": {
            "image/png": "[encoded data removed]",
            "text/plain": [
              "<Figure size 432x288 with 1 Axes>"
            ]
          },
          "metadata": {
            "tags": [],
            "needs_background": "light"
          }
        }
      ]
    },
    {
      "cell_type": "code",
      "metadata": {
        "id": "syR52wC8dYL9",
        "colab_type": "code",
        "colab": {
          "base_uri": "https://localhost:8080/",
          "height": 265
        },
        "outputId": "ebb2c173-bdd0-44a0-a061-988f71a33c94"
      },
      "source": [
        "# CoApplicatnIncome\n",
        "sns.boxplot(df['CoapplicantIncome']);\n",
        "plt.title('', fontsize=15);\n",
        "plt.xlabel('');"
      ],
      "execution_count": 42,
      "outputs": [
        {
          "output_type": "display_data",
          "data": {
            "image/png": "[encoded data removed]",
            "text/plain": [
              "<Figure size 432x288 with 1 Axes>"
            ]
          },
          "metadata": {
            "tags": [],
            "needs_background": "light"
          }
        }
      ]
    },
    {
      "cell_type": "code",
      "metadata": {
        "id": "wAefJXHQdaBY",
        "colab_type": "code",
        "colab": {
          "base_uri": "https://localhost:8080/",
          "height": 207
        },
        "outputId": "c1a99364-1fc1-46c8-8126-8ef0dd3ea0f3"
      },
      "source": [
        "# Now lets remove outliers from continous data\n",
        "\n",
        "threshold = 1.5\n",
        "            \n",
        "Loan_Amount_out = df['LoanAmount']\n",
        "q25, q75 = np.percentile(Loan_Amount_out, 25), np.percentile(Loan_Amount_out, 75) # Q25, Q75\n",
        "print('Quartile 25: {} , Quartile 75: {}'.format(q25, q75))\n",
        "\n",
        "iqr = q75 - q25\n",
        "print('iqr: {}'.format(iqr))\n",
        "\n",
        "cut = iqr * threshold\n",
        "lower, upper = q25 - cut, q75 + cut\n",
        "print('Cut Off: {}'.format(cut))\n",
        "print('Lower: {}'.format(lower))\n",
        "print('Upper: {}'.format(upper))\n",
        "\n",
        "outliers = [x for x in Loan_Amount_out if x < lower or x > upper]\n",
        "print('Nubers of Outliers: {}'.format(len(outliers)))\n",
        "print('outliers:{}'.format(outliers))\n",
        "\n",
        "data_outliers = df\n",
        "print('\\nlen Data Frame before dropping the outliers', len(data_outliers))\n",
        "data_outliers = data_outliers.drop(data_outliers[(data_outliers['LoanAmount'] > upper) | (data_outliers['LoanAmount'] < lower)].index)\n",
        "\n",
        "print('len Data Frame after dropping the outliers', len(data_outliers))"
      ],
      "execution_count": 69,
      "outputs": [
        {
          "output_type": "stream",
          "text": [
            "Quartile 25: 100.25 , Quartile 75: 164.75\n",
            "iqr: 64.5\n",
            "Cut Off: 96.75\n",
            "Lower: 3.5\n",
            "Upper: 261.5\n",
            "Nubers of Outliers: 41\n",
            "outliers:[267.0, 349.0, 315.0, 320.0, 286.0, 312.0, 265.0, 370.0, 650.0, 290.0, 600.0, 275.0, 700.0, 495.0, 280.0, 279.0, 304.0, 330.0, 436.0, 480.0, 300.0, 376.0, 490.0, 308.0, 570.0, 380.0, 296.0, 275.0, 360.0, 405.0, 500.0, 480.0, 311.0, 480.0, 400.0, 324.0, 600.0, 275.0, 292.0, 350.0, 496.0]\n",
            "\n",
            "len Data Frame before dropping the outliers 614\n",
            "len Data Frame after dropping the outliers 573\n"
          ],
          "name": "stdout"
        }
      ]
    },
    {
      "cell_type": "code",
      "metadata": {
        "id": "2XqfGjQSdcVK",
        "colab_type": "code",
        "colab": {
          "base_uri": "https://localhost:8080/",
          "height": 207
        },
        "outputId": "ef20d708-ce7c-47df-e376-b5667b88b742"
      },
      "source": [
        "# Now lets remove outliers from continous data\n",
        "\n",
        "threshold = 1.5\n",
        "            \n",
        "Income_out = df['ApplicantIncome']\n",
        "q25, q75 = np.percentile(Income_out, 25), np.percentile(Income_out, 75) # Q25, Q75\n",
        "print('Quartile 25: {} , Quartile 75: {}'.format(q25, q75))\n",
        "\n",
        "iqr = q75 - q25\n",
        "print('iqr: {}'.format(iqr))\n",
        "\n",
        "cut = iqr * threshold\n",
        "lower, upper = q25 - cut, q75 + cut\n",
        "print('Cut Off: {}'.format(cut))\n",
        "print('Lower: {}'.format(lower))\n",
        "print('Upper: {}'.format(upper))\n",
        "\n",
        "outliers = [x for x in Income_out if x < lower or x > upper]\n",
        "print('Nubers of Outliers: {}'.format(len(outliers)))\n",
        "print('outliers:{}'.format(outliers))\n",
        "\n",
        "print('\\nlen Data Frame before dropping the outliers', len(data_outliers))\n",
        "data_outliers = data_outliers.drop(data_outliers[(data_outliers['ApplicantIncome'] > upper) | (data_outliers['ApplicantIncome'] < lower)].index)\n",
        "\n",
        "print('len Data Frame after dropping the outliers', len(data_outliers))"
      ],
      "execution_count": 70,
      "outputs": [
        {
          "output_type": "stream",
          "text": [
            "Quartile 25: 2877.5 , Quartile 75: 5795.0\n",
            "iqr: 2917.5\n",
            "Cut Off: 4376.25\n",
            "Lower: -1498.75\n",
            "Upper: 10171.25\n",
            "Nubers of Outliers: 50\n",
            "outliers:[12841, 12500, 11500, 10750, 13650, 11417, 14583, 10408, 23803, 10513, 20166, 14999, 11757, 14866, 39999, 51763, 33846, 39147, 12000, 11000, 16250, 14683, 11146, 14583, 20667, 20233, 15000, 63337, 19730, 15759, 81000, 14880, 12876, 10416, 37719, 16692, 16525, 16667, 10833, 18333, 17263, 20833, 13262, 17500, 11250, 18165, 19484, 16666, 16120, 12000]\n",
            "\n",
            "len Data Frame before dropping the outliers 573\n",
            "len Data Frame after dropping the outliers 545\n"
          ],
          "name": "stdout"
        }
      ]
    },
    {
      "cell_type": "code",
      "metadata": {
        "id": "P0gkv30pdgj5",
        "colab_type": "code",
        "colab": {
          "base_uri": "https://localhost:8080/",
          "height": 357
        },
        "outputId": "9857de4c-eaa1-43c8-f30e-f44d824a7559"
      },
      "source": [
        "data_outliers.info()"
      ],
      "execution_count": 71,
      "outputs": [
        {
          "output_type": "stream",
          "text": [
            "<class 'pandas.core.frame.DataFrame'>\n",
            "Int64Index: 545 entries, 0 to 613\n",
            "Data columns (total 13 columns):\n",
            " #   Column             Non-Null Count  Dtype  \n",
            "---  ------             --------------  -----  \n",
            " 0   Loan_ID            545 non-null    object \n",
            " 1   Gender             545 non-null    int8   \n",
            " 2   Married            545 non-null    int8   \n",
            " 3   Dependents         545 non-null    object \n",
            " 4   Education          545 non-null    int8   \n",
            " 5   Self_Employed      545 non-null    int8   \n",
            " 6   ApplicantIncome    545 non-null    int64  \n",
            " 7   CoapplicantIncome  545 non-null    float64\n",
            " 8   LoanAmount         545 non-null    float64\n",
            " 9   Loan_Amount_Term   545 non-null    float64\n",
            " 10  Credit_History     545 non-null    object \n",
            " 11  Property_Area      545 non-null    int8   \n",
            " 12  Loan_Status        545 non-null    int8   \n",
            "dtypes: float64(3), int64(1), int8(6), object(3)\n",
            "memory usage: 37.3+ KB\n"
          ],
          "name": "stdout"
        }
      ]
    },
    {
      "cell_type": "code",
      "metadata": {
        "id": "v4HnDgJadkTL",
        "colab_type": "code",
        "colab": {
          "base_uri": "https://localhost:8080/",
          "height": 224
        },
        "outputId": "e932952f-d7aa-4120-ca8c-9754b406ff3e"
      },
      "source": [
        "data_outliers.head()"
      ],
      "execution_count": 72,
      "outputs": [
        {
          "output_type": "execute_result",
          "data": {
            "text/html": [
              "<div>\n",
              "<style scoped>\n",
              "    .dataframe tbody tr th:only-of-type {\n",
              "        vertical-align: middle;\n",
              "    }\n",
              "\n",
              "    .dataframe tbody tr th {\n",
              "        vertical-align: top;\n",
              "    }\n",
              "\n",
              "    .dataframe thead th {\n",
              "        text-align: right;\n",
              "    }\n",
              "</style>\n",
              "<table border=\"1\" class=\"dataframe\">\n",
              "  <thead>\n",
              "    <tr style=\"text-align: right;\">\n",
              "      <th></th>\n",
              "      <th>Loan_ID</th>\n",
              "      <th>Gender</th>\n",
              "      <th>Married</th>\n",
              "      <th>Dependents</th>\n",
              "      <th>Education</th>\n",
              "      <th>Self_Employed</th>\n",
              "      <th>ApplicantIncome</th>\n",
              "      <th>CoapplicantIncome</th>\n",
              "      <th>LoanAmount</th>\n",
              "      <th>Loan_Amount_Term</th>\n",
              "      <th>Credit_History</th>\n",
              "      <th>Property_Area</th>\n",
              "      <th>Loan_Status</th>\n",
              "    </tr>\n",
              "  </thead>\n",
              "  <tbody>\n",
              "    <tr>\n",
              "      <th>0</th>\n",
              "      <td>LP001002</td>\n",
              "      <td>1</td>\n",
              "      <td>0</td>\n",
              "      <td>0</td>\n",
              "      <td>0</td>\n",
              "      <td>0</td>\n",
              "      <td>5849</td>\n",
              "      <td>0.0</td>\n",
              "      <td>146.412162</td>\n",
              "      <td>360.0</td>\n",
              "      <td>1</td>\n",
              "      <td>2</td>\n",
              "      <td>1</td>\n",
              "    </tr>\n",
              "    <tr>\n",
              "      <th>1</th>\n",
              "      <td>LP001003</td>\n",
              "      <td>1</td>\n",
              "      <td>1</td>\n",
              "      <td>1</td>\n",
              "      <td>0</td>\n",
              "      <td>0</td>\n",
              "      <td>4583</td>\n",
              "      <td>1508.0</td>\n",
              "      <td>128.000000</td>\n",
              "      <td>360.0</td>\n",
              "      <td>1</td>\n",
              "      <td>0</td>\n",
              "      <td>0</td>\n",
              "    </tr>\n",
              "    <tr>\n",
              "      <th>2</th>\n",
              "      <td>LP001005</td>\n",
              "      <td>1</td>\n",
              "      <td>1</td>\n",
              "      <td>0</td>\n",
              "      <td>0</td>\n",
              "      <td>1</td>\n",
              "      <td>3000</td>\n",
              "      <td>0.0</td>\n",
              "      <td>66.000000</td>\n",
              "      <td>360.0</td>\n",
              "      <td>1</td>\n",
              "      <td>2</td>\n",
              "      <td>1</td>\n",
              "    </tr>\n",
              "    <tr>\n",
              "      <th>3</th>\n",
              "      <td>LP001006</td>\n",
              "      <td>1</td>\n",
              "      <td>1</td>\n",
              "      <td>0</td>\n",
              "      <td>1</td>\n",
              "      <td>0</td>\n",
              "      <td>2583</td>\n",
              "      <td>2358.0</td>\n",
              "      <td>120.000000</td>\n",
              "      <td>360.0</td>\n",
              "      <td>1</td>\n",
              "      <td>2</td>\n",
              "      <td>1</td>\n",
              "    </tr>\n",
              "    <tr>\n",
              "      <th>4</th>\n",
              "      <td>LP001008</td>\n",
              "      <td>1</td>\n",
              "      <td>0</td>\n",
              "      <td>0</td>\n",
              "      <td>0</td>\n",
              "      <td>0</td>\n",
              "      <td>6000</td>\n",
              "      <td>0.0</td>\n",
              "      <td>141.000000</td>\n",
              "      <td>360.0</td>\n",
              "      <td>1</td>\n",
              "      <td>2</td>\n",
              "      <td>1</td>\n",
              "    </tr>\n",
              "  </tbody>\n",
              "</table>\n",
              "</div>"
            ],
            "text/plain": [
              "    Loan_ID  Gender  Married  ... Credit_History  Property_Area  Loan_Status\n",
              "0  LP001002       1        0  ...              1              2            1\n",
              "1  LP001003       1        1  ...              1              0            0\n",
              "2  LP001005       1        1  ...              1              2            1\n",
              "3  LP001006       1        1  ...              1              2            1\n",
              "4  LP001008       1        0  ...              1              2            1\n",
              "\n",
              "[5 rows x 13 columns]"
            ]
          },
          "metadata": {
            "tags": []
          },
          "execution_count": 72
        }
      ]
    },
    {
      "cell_type": "code",
      "metadata": {
        "id": "YSlHa23oduo9",
        "colab_type": "code",
        "colab": {
          "base_uri": "https://localhost:8080/",
          "height": 51
        },
        "outputId": "f6b0ce12-6e55-4f5b-c8d3-9546bc0ce203"
      },
      "source": [
        "# Splitting the data into train and test set after doing feature selection\n",
        "\n",
        "from sklearn.model_selection import train_test_split\n",
        "\n",
        "X = data_outliers.drop(['Loan_ID', 'Loan_Status', 'Education', 'Self_Employed'], axis=1)\n",
        "\n",
        "Y = data_outliers['Loan_Status']\n",
        "\n",
        "X_train, X_test, y_train, y_test = train_test_split(X, Y, test_size = 0.25, random_state=1)\n",
        "\n",
        "print(\"number of test samples :\", X_test.shape[0])\n",
        "print(\"number of training samples:\",X_train.shape[0])"
      ],
      "execution_count": 77,
      "outputs": [
        {
          "output_type": "stream",
          "text": [
            "number of test samples : 137\n",
            "number of training samples: 408\n"
          ],
          "name": "stdout"
        }
      ]
    },
    {
      "cell_type": "code",
      "metadata": {
        "id": "-36d9I3PeAf3",
        "colab_type": "code",
        "colab": {}
      },
      "source": [
        "# Implementing Logistic Regression\n",
        "from sklearn.linear_model import LogisticRegression\n",
        "\n",
        "LR_model = LogisticRegression(C=0.01)\n",
        "\n",
        "LR_model.fit(X_train, y_train)\n",
        "\n",
        "pred = LR_model.predict(X_test)"
      ],
      "execution_count": 0,
      "outputs": []
    },
    {
      "cell_type": "code",
      "metadata": {
        "id": "mgsnIE-VeFhz",
        "colab_type": "code",
        "colab": {
          "base_uri": "https://localhost:8080/",
          "height": 34
        },
        "outputId": "06ed82b2-a546-4dd0-dd63-353c423c5f97"
      },
      "source": [
        "# finding accuracy\n",
        "print(accuracy_score(y_test, pred, normalize = True)*100)"
      ],
      "execution_count": 79,
      "outputs": [
        {
          "output_type": "stream",
          "text": [
            "70.8029197080292\n"
          ],
          "name": "stdout"
        }
      ]
    },
    {
      "cell_type": "code",
      "metadata": {
        "id": "rSQsUeIdeJVv",
        "colab_type": "code",
        "colab": {
          "base_uri": "https://localhost:8080/",
          "height": 34
        },
        "outputId": "a252b3ff-c70f-4cd8-e8e4-85b262de204e"
      },
      "source": [
        "# Implementing 5-fold cross validation\n",
        "\n",
        "kf = KFold(n_splits=5,shuffle=False)\n",
        "LR_model1 = LogisticRegression(C=0.01)\n",
        "accuracy_model = []\n",
        "\n",
        "for train_index, test_index in kf.split(X):\n",
        "    # Split train-test\n",
        "    X_train, X_test = X.iloc[train_index], X.iloc[test_index]\n",
        "    y_train, y_test = Y.iloc[train_index], Y.iloc[test_index]\n",
        "    # Train the model\n",
        "    model = LR_model1.fit(X_train, y_train)\n",
        "    # Append to accuracy_model the accuracy of the model\n",
        "    accuracy_model.append(accuracy_score(y_test, model.predict(X_test), normalize=True)*100)\n",
        "    \n",
        "\n",
        "\n",
        "ave_accuracy = (accuracy_model[0]+accuracy_model[1]+accuracy_model[2]+accuracy_model[3]+accuracy_model[4])/5\n",
        "print(ave_accuracy)"
      ],
      "execution_count": 83,
      "outputs": [
        {
          "output_type": "stream",
          "text": [
            "69.35779816513761\n"
          ],
          "name": "stdout"
        }
      ]
    },
    {
      "cell_type": "code",
      "metadata": {
        "id": "OK9FWmwMeTfR",
        "colab_type": "code",
        "colab": {
          "base_uri": "https://localhost:8080/",
          "height": 119
        },
        "outputId": "d5aca995-98b2-4b1b-d6d3-5b6b3c7593d7"
      },
      "source": [
        "#Implementing Decsion Tree Classifier\n",
        "from sklearn.tree import DecisionTreeClassifier\n",
        "\n",
        "Tree = DecisionTreeClassifier(criterion=\"entropy\", max_depth = 4)\n",
        "\n",
        "Tree.fit(X_train, y_train)"
      ],
      "execution_count": 84,
      "outputs": [
        {
          "output_type": "execute_result",
          "data": {
            "text/plain": [
              "DecisionTreeClassifier(ccp_alpha=0.0, class_weight=None, criterion='entropy',\n",
              "                       max_depth=4, max_features=None, max_leaf_nodes=None,\n",
              "                       min_impurity_decrease=0.0, min_impurity_split=None,\n",
              "                       min_samples_leaf=1, min_samples_split=2,\n",
              "                       min_weight_fraction_leaf=0.0, presort='deprecated',\n",
              "                       random_state=None, splitter='best')"
            ]
          },
          "metadata": {
            "tags": []
          },
          "execution_count": 84
        }
      ]
    },
    {
      "cell_type": "code",
      "metadata": {
        "id": "JEGyLGsuiUYM",
        "colab_type": "code",
        "colab": {
          "base_uri": "https://localhost:8080/",
          "height": 34
        },
        "outputId": "1786aa1c-07a6-4ba2-a5c2-e79e7e222aba"
      },
      "source": [
        "# Finding accuracy\n",
        "\n",
        "PredTree = Tree.predict(X_test)\n",
        "\n",
        "print(accuracy_score(y_test, PredTree, normalize=True)*100)"
      ],
      "execution_count": 85,
      "outputs": [
        {
          "output_type": "stream",
          "text": [
            "80.73394495412845\n"
          ],
          "name": "stdout"
        }
      ]
    },
    {
      "cell_type": "code",
      "metadata": {
        "id": "STmG-F-jiYVv",
        "colab_type": "code",
        "colab": {
          "base_uri": "https://localhost:8080/",
          "height": 34
        },
        "outputId": "8f6da8ce-6794-4ae1-ff65-6c05f12ada94"
      },
      "source": [
        "# Implementing 5-fold cross validation\n",
        "kf = KFold(n_splits=5,shuffle=False)\n",
        "\n",
        "accuracy_model = []\n",
        "\n",
        "for train_index, test_index in kf.split(X):\n",
        "    # Split train-test\n",
        "    X_train, X_test = X.iloc[train_index], X.iloc[test_index]\n",
        "    y_train, y_test = Y.iloc[train_index], Y.iloc[test_index]\n",
        "    # Train the model\n",
        "    model = Tree.fit(X_train, y_train)\n",
        "    # Append to accuracy_model the accuracy of the model\n",
        "    accuracy_model.append(accuracy_score(y_test, model.predict(X_test), normalize=True)*100)\n",
        "    \n",
        "\n",
        "\n",
        "ave_accuracy = (accuracy_model[0]+accuracy_model[1]+accuracy_model[2]+accuracy_model[3]+accuracy_model[4])/5\n",
        "print(ave_accuracy)"
      ],
      "execution_count": 87,
      "outputs": [
        {
          "output_type": "stream",
          "text": [
            "80.0\n"
          ],
          "name": "stdout"
        }
      ]
    },
    {
      "cell_type": "code",
      "metadata": {
        "id": "b4My0be4ihRw",
        "colab_type": "code",
        "colab": {}
      },
      "source": [
        "#Implementing Random Forest Classifier\n",
        "\n",
        "from sklearn.ensemble import RandomForestClassifier\n",
        "\n",
        "\n",
        "clf=RandomForestClassifier(n_estimators=600)\n",
        "\n",
        "clf.fit(X_train,y_train)\n",
        "\n",
        "y_pred=clf.predict(X_test)\n"
      ],
      "execution_count": 0,
      "outputs": []
    },
    {
      "cell_type": "code",
      "metadata": {
        "id": "r9GFffqXiyjv",
        "colab_type": "code",
        "colab": {
          "base_uri": "https://localhost:8080/",
          "height": 34
        },
        "outputId": "f3545993-87b9-47c7-9d58-ee5c1b3faba1"
      },
      "source": [
        "# Finding accuracy\n",
        "print(accuracy_score(y_test, y_pred, normalize=True)*100)"
      ],
      "execution_count": 89,
      "outputs": [
        {
          "output_type": "stream",
          "text": [
            "81.65137614678899\n"
          ],
          "name": "stdout"
        }
      ]
    },
    {
      "cell_type": "code",
      "metadata": {
        "id": "oZpTLzNOi0n4",
        "colab_type": "code",
        "colab": {
          "base_uri": "https://localhost:8080/",
          "height": 34
        },
        "outputId": "1ae3622b-93c2-468a-864d-749a24a2d87e"
      },
      "source": [
        "# Implementing 5-fold cross validation\n",
        "kf = KFold(n_splits=5,shuffle=False)\n",
        "\n",
        "accuracy_model = []\n",
        "\n",
        "for train_index, test_index in kf.split(X):\n",
        "    # Split train-test\n",
        "    X_train, X_test = X.iloc[train_index], X.iloc[test_index]\n",
        "    y_train, y_test = Y.iloc[train_index], Y.iloc[test_index]\n",
        "    # Train the model\n",
        "    model = clf.fit(X_train, y_train)\n",
        "    # Append to accuracy_model the accuracy of the model\n",
        "    accuracy_model.append(accuracy_score(y_test, model.predict(X_test), normalize=True)*100)\n",
        "    \n",
        "\n",
        "\n",
        "ave_accuracy = (accuracy_model[0]+accuracy_model[1]+accuracy_model[2]+accuracy_model[3]+accuracy_model[4])/5\n",
        "print(ave_accuracy)"
      ],
      "execution_count": 90,
      "outputs": [
        {
          "output_type": "stream",
          "text": [
            "80.0\n"
          ],
          "name": "stdout"
        }
      ]
    },
    {
      "cell_type": "code",
      "metadata": {
        "id": "ZUyeLwiXi9TC",
        "colab_type": "code",
        "colab": {
          "base_uri": "https://localhost:8080/",
          "height": 85
        },
        "outputId": "45695c53-2758-4fda-fe47-74d8753fa0f4"
      },
      "source": [
        "# Implementing Support vector classifier\n",
        "\n",
        "from sklearn.svm import SVC\n",
        "svclassifier = SVC(kernel='linear')\n",
        "svclassifier.fit(X_train, y_train)"
      ],
      "execution_count": 91,
      "outputs": [
        {
          "output_type": "execute_result",
          "data": {
            "text/plain": [
              "SVC(C=1.0, break_ties=False, cache_size=200, class_weight=None, coef0=0.0,\n",
              "    decision_function_shape='ovr', degree=3, gamma='scale', kernel='linear',\n",
              "    max_iter=-1, probability=False, random_state=None, shrinking=True,\n",
              "    tol=0.001, verbose=False)"
            ]
          },
          "metadata": {
            "tags": []
          },
          "execution_count": 91
        }
      ]
    },
    {
      "cell_type": "code",
      "metadata": {
        "id": "nYZfOzfvjHJn",
        "colab_type": "code",
        "colab": {
          "base_uri": "https://localhost:8080/",
          "height": 34
        },
        "outputId": "ca84e3b0-0814-4a56-f872-e2f75dccc73e"
      },
      "source": [
        "y_pred = svclassifier.predict(X_test)\n",
        "\n",
        "print(accuracy_score(y_test, y_pred, normalize = True)*100)"
      ],
      "execution_count": 94,
      "outputs": [
        {
          "output_type": "stream",
          "text": [
            "80.73394495412845\n"
          ],
          "name": "stdout"
        }
      ]
    },
    {
      "cell_type": "code",
      "metadata": {
        "id": "YF2plNtJlYDV",
        "colab_type": "code",
        "colab": {
          "base_uri": "https://localhost:8080/",
          "height": 34
        },
        "outputId": "212c1373-28d2-4f73-d535-4e5688bc1cf2"
      },
      "source": [
        "#Implementing 5-fold cross validation\n",
        "\n",
        "from sklearn.model_selection import KFold\n",
        "kf = KFold(n_splits=5,shuffle=False)\n",
        "svc_classifier = SVC(kernel = 'linear')\n",
        "accuracy_model = []\n",
        "\n",
        "for train_index, test_index in kf.split(X):\n",
        "    # Split train-test\n",
        "    X_train, X_test = X.iloc[train_index], X.iloc[test_index]\n",
        "    y_train, y_test = Y.iloc[train_index], Y.iloc[test_index]\n",
        "    # Train the model\n",
        "    model = svc_classifier.fit(X_train, y_train)\n",
        "    # Append to accuracy_model the accuracy of the model\n",
        "    accuracy_model.append(accuracy_score(y_test, model.predict(X_test), normalize=True)*100)\n",
        "    \n",
        "\n",
        "\n",
        "ave_accuracy = (accuracy_model[0]+accuracy_model[1]+accuracy_model[2]+accuracy_model[3]+accuracy_model[4])/5\n",
        "print(ave_accuracy)"
      ],
      "execution_count": 95,
      "outputs": [
        {
          "output_type": "stream",
          "text": [
            "81.4678899082569\n"
          ],
          "name": "stdout"
        }
      ]
    },
    {
      "cell_type": "code",
      "metadata": {
        "id": "64LS8nlnlh3-",
        "colab_type": "code",
        "colab": {
          "base_uri": "https://localhost:8080/",
          "height": 54
        },
        "outputId": "19da6ea0-4fbb-4559-9ded-d434368ad8d5"
      },
      "source": [
        "# Now lets try to improve the model by tuning the hyperparameter\n",
        "# Trying different parameters\n",
        "arr = [0.01, 0.1, 0.2, 0.3, 0.4, 0.5, 0.6, 0.7]\n",
        "accuracy = []\n",
        "for n in arr:\n",
        "  LR_model = LogisticRegression(C=n)\n",
        "\n",
        "  LR_model.fit(X_train, y_train)\n",
        "\n",
        "  pred = LR_model.predict(X_test)\n",
        "  \n",
        "  accuracy.append(accuracy_score(y_test, pred, normalize=True)*100)\n",
        "\n",
        "\n",
        "print(accuracy)\n",
        "\n",
        "# so with C = 0.5 we have improved our accuracy "
      ],
      "execution_count": 97,
      "outputs": [
        {
          "output_type": "stream",
          "text": [
            "[66.97247706422019, 81.65137614678899, 81.65137614678899, 82.56880733944955, 82.56880733944955, 82.56880733944955, 82.56880733944955, 82.56880733944955]\n"
          ],
          "name": "stdout"
        }
      ]
    },
    {
      "cell_type": "code",
      "metadata": {
        "id": "uoI38CC6pBRA",
        "colab_type": "code",
        "colab": {
          "base_uri": "https://localhost:8080/",
          "height": 34
        },
        "outputId": "4d7f9ea8-b038-4d17-f55f-3bac6e6b0b59"
      },
      "source": [
        "# 5-fold cross validation with best hyperparameter\n",
        " \n",
        "kf = KFold(n_splits=5,shuffle=False)\n",
        "LR_model1 = LogisticRegression(C=0.5)\n",
        "accuracy_model = []\n",
        "\n",
        "for train_index, test_index in kf.split(X):\n",
        "    # Split train-test\n",
        "    X_train, X_test = X.iloc[train_index], X.iloc[test_index]\n",
        "    y_train, y_test = Y.iloc[train_index], Y.iloc[test_index]\n",
        "    # Train the model\n",
        "    model = LR_model1.fit(X_train, y_train)\n",
        "    # Append to accuracy_model the accuracy of the model\n",
        "    accuracy_model.append(accuracy_score(y_test, model.predict(X_test), normalize=True)*100)\n",
        "    \n",
        "\n",
        "\n",
        "ave_accuracy = (accuracy_model[0]+accuracy_model[1]+accuracy_model[2]+accuracy_model[3]+accuracy_model[4])/5\n",
        "print(ave_accuracy)"
      ],
      "execution_count": 102,
      "outputs": [
        {
          "output_type": "stream",
          "text": [
            "81.65137614678899\n"
          ],
          "name": "stdout"
        }
      ]
    },
    {
      "cell_type": "code",
      "metadata": {
        "id": "GYEJqZv3nymt",
        "colab_type": "code",
        "colab": {
          "base_uri": "https://localhost:8080/",
          "height": 34
        },
        "outputId": "772c05c5-348d-459e-e653-9be5a0df5e6f"
      },
      "source": [
        "#Trying different numbers of trees\n",
        "\n",
        "arr1 = [100, 200, 300, 400, 500, 600, 700, 800, 900, 1000, 1200, 1300, 1500]\n",
        "accuracy1 = []\n",
        "for n in arr1:\n",
        "  clf=RandomForestClassifier(n_estimators=n)\n",
        "\n",
        "#Train the model using the training sets y_pred=clf.predict(X_test)\n",
        "  clf.fit(X_train,y_train)\n",
        "\n",
        "  y_pred=clf.predict(X_test)\n",
        "  \n",
        "  accuracy1.append(accuracy_score(y_test, y_pred, normalize= True)*100)\n",
        "\n",
        "print(accuracy1)\n",
        "\n",
        "# It is giving optimal accuracy with 400 trees\n"
      ],
      "execution_count": 101,
      "outputs": [
        {
          "output_type": "stream",
          "text": [
            "[66.97247706422019, 82.56880733944955, 82.56880733944955, 82.56880733944955, 81.65137614678899, 80.73394495412845]\n"
          ],
          "name": "stdout"
        }
      ]
    },
    {
      "cell_type": "code",
      "metadata": {
        "id": "c8jzSjTOrEGD",
        "colab_type": "code",
        "colab": {
          "base_uri": "https://localhost:8080/",
          "height": 34
        },
        "outputId": "238ca231-01c3-4999-86b7-0c41faa693ab"
      },
      "source": [
        "# 5-fold cross validation with 400 trees\n",
        "\n",
        "kf = KFold(n_splits=5,shuffle=False)\n",
        "clf1 = RandomForestClassifier(n_estimators=400)\n",
        "accuracy_model = []\n",
        "\n",
        "for train_index, test_index in kf.split(X):\n",
        "    # Split train-test\n",
        "    X_train, X_test = X.iloc[train_index], X.iloc[test_index]\n",
        "    y_train, y_test = Y.iloc[train_index], Y.iloc[test_index]\n",
        "    # Train the model\n",
        "    model = clf1.fit(X_train, y_train)\n",
        "    # Append to accuracy_model the accuracy of the model\n",
        "    accuracy_model.append(accuracy_score(y_test, model.predict(X_test), normalize=True)*100)\n",
        "    \n",
        "\n",
        "\n",
        "ave_accuracy = (accuracy_model[0]+accuracy_model[1]+accuracy_model[2]+accuracy_model[3]+accuracy_model[4])/5\n",
        "print(ave_accuracy)"
      ],
      "execution_count": 105,
      "outputs": [
        {
          "output_type": "stream",
          "text": [
            "80.55045871559633\n"
          ],
          "name": "stdout"
        }
      ]
    },
    {
      "cell_type": "code",
      "metadata": {
        "id": "wWC-52-LtbmQ",
        "colab_type": "code",
        "colab": {
          "base_uri": "https://localhost:8080/",
          "height": 34
        },
        "outputId": "84bc21bd-6778-4acf-cfe2-0f119efea078"
      },
      "source": [
        "# Trying different hyperparameters\n",
        "arr2 = [0.01, 0.1, 0.3, 0.6, 0.8, 1]\n",
        "accuracy2 = []\n",
        "for n in arr2:\n",
        "  svclassifier = SVC(C=n, kernel='linear')\n",
        "  svclassifier.fit(X_train, y_train)\n",
        "  y_pred = svclassifier.predict(X_test)\n",
        "  accuracy2.append(accuracy_score(y_test, y_pred, normalize=True)*100)\n",
        "\n",
        "\n",
        "print(accuracy2)  \n",
        "\n",
        "\n",
        "# It is giving optimal accuracy with n=0.1"
      ],
      "execution_count": 104,
      "outputs": [
        {
          "output_type": "stream",
          "text": [
            "[66.97247706422019, 82.56880733944955, 82.56880733944955, 82.56880733944955, 81.65137614678899, 80.73394495412845]\n"
          ],
          "name": "stdout"
        }
      ]
    },
    {
      "cell_type": "code",
      "metadata": {
        "id": "vIbH7yQXthK4",
        "colab_type": "code",
        "colab": {
          "base_uri": "https://localhost:8080/",
          "height": 34
        },
        "outputId": "fadabc6e-39da-4f57-df25-41f7a2d2c422"
      },
      "source": [
        "# 5-fold cross validation with best hyperparameter\n",
        "\n",
        "from sklearn.model_selection import KFold\n",
        "kf = KFold(n_splits=5,shuffle=False)\n",
        "svc_classifier = SVC(C = 0.1, kernel = 'linear')\n",
        "accuracy_model = []\n",
        "\n",
        "for train_index, test_index in kf.split(X):\n",
        "    # Split train-test\n",
        "    X_train, X_test = X.iloc[train_index], X.iloc[test_index]\n",
        "    y_train, y_test = Y.iloc[train_index], Y.iloc[test_index]\n",
        "    # Train the model\n",
        "    model = svc_classifier.fit(X_train, y_train)\n",
        "    # Append to accuracy_model the accuracy of the model\n",
        "    accuracy_model.append(accuracy_score(y_test, model.predict(X_test), normalize=True)*100)\n",
        "    \n",
        "\n",
        "\n",
        "ave_accuracy = (accuracy_model[0]+accuracy_model[1]+accuracy_model[2]+accuracy_model[3]+accuracy_model[4])/5\n",
        "print(ave_accuracy)\n",
        "\n"
      ],
      "execution_count": 107,
      "outputs": [
        {
          "output_type": "stream",
          "text": [
            "81.83486238532112\n"
          ],
          "name": "stdout"
        }
      ]
    },
    {
      "cell_type": "code",
      "metadata": {
        "id": "IDp3xYRJvJTi",
        "colab_type": "code",
        "colab": {}
      },
      "source": [
        ""
      ],
      "execution_count": 0,
      "outputs": []
    }
  ]
}